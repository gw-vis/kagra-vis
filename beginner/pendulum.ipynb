{
 "cells": [
  {
   "cell_type": "code",
   "execution_count": null,
   "metadata": {},
   "outputs": [],
   "source": []
  },
  {
   "cell_type": "code",
   "execution_count": 1,
   "metadata": {},
   "outputs": [],
   "source": [
    "from sympy import sin, cos, symbols, diff, Matrix, lambdify\n",
    "from sympy import solve, simplify\n",
    "from sympy.physics.mechanics import LagrangesMethod, Lagrangian\n",
    "from sympy.physics.mechanics import ReferenceFrame, Particle, Point\n",
    "from sympy.physics.mechanics import dynamicsymbols, kinetic_energy\n",
    "from sympy.physics.mechanics import mprint, mlatex\n",
    "from sympy import init_printing, init_session\n",
    "from sympy.physics.vector import init_vprinting\n",
    "init_vprinting(pretty_print=True)\n",
    "import numpy as np\n",
    "from scipy import signal\n",
    "import control\n",
    "#https://qiita.com/acela86/items/170dba21021e387dfc89"
   ]
  },
  {
   "cell_type": "markdown",
   "metadata": {},
   "source": [
    "# 1段振り子"
   ]
  },
  {
   "cell_type": "markdown",
   "metadata": {},
   "source": [
    "一段振り子の伝達関数をラグランジアンから求める。\n",
    "\n",
    "\n",
    "まずは、Sympyの準備から。振り子の変数を定義する。"
   ]
  },
  {
   "cell_type": "code",
   "execution_count": 2,
   "metadata": {},
   "outputs": [],
   "source": [
    "t = symbols(\"t\")\n",
    "X, x1, f1 = dynamicsymbols(\"X x1 f1\")\n",
    "m1, c1, k1 = symbols(\"m1 c1 k1\")\n",
    "l1, g = symbols(\"l1 g\")\n",
    "w1 = symbols(\"w1\")"
   ]
  },
  {
   "cell_type": "markdown",
   "metadata": {},
   "source": [
    "質点を定義する。"
   ]
  },
  {
   "cell_type": "code",
   "execution_count": 3,
   "metadata": {},
   "outputs": [],
   "source": [
    "N = ReferenceFrame(\"N\")\n",
    "\n",
    "p1 = Point(\"p1\") \n",
    "v1 = x1.diff(t)\n",
    "p1.set_vel(N, v1*N.x)\n",
    "pa1 = Particle(\"pa1\", p1, m1)"
   ]
  },
  {
   "cell_type": "markdown",
   "metadata": {},
   "source": [
    "ポテンシャルエネルギーを定義する。"
   ]
  },
  {
   "cell_type": "code",
   "execution_count": 4,
   "metadata": {},
   "outputs": [],
   "source": [
    "pa1.potential_energy = k1*(x1-X)**2/2 "
   ]
  },
  {
   "cell_type": "markdown",
   "metadata": {},
   "source": [
    "外力を定義する。"
   ]
  },
  {
   "cell_type": "code",
   "execution_count": 5,
   "metadata": {},
   "outputs": [],
   "source": [
    "F = c1*(v1)**2/2\n",
    "fc1 = -F.diff(v1)\n",
    "fl = [(p1, (f1 + fc1)*N.x)]"
   ]
  },
  {
   "cell_type": "markdown",
   "metadata": {},
   "source": [
    "ラグランジアンから運動方程式を求める。"
   ]
  },
  {
   "cell_type": "code",
   "execution_count": 6,
   "metadata": {},
   "outputs": [
    {
     "data": {
      "text/latex": [
       "$\\displaystyle \\left[\\begin{matrix}c_{1} \\dot{x}_{1} + \\frac{k_{1} \\left(- 2 X + 2 x_{1}\\right)}{2} + m_{1} \\ddot{x}_{1} - f_{1}\\end{matrix}\\right]$"
      ],
      "text/plain": [
       "⎡        k₁⋅(-2⋅X + 2⋅x₁)             ⎤\n",
       "⎢c₁⋅x₁̇ + ──────────────── + m₁⋅x₁̈ - f₁⎥\n",
       "⎣               2                     ⎦"
      ]
     },
     "execution_count": 6,
     "metadata": {},
     "output_type": "execute_result"
    }
   ],
   "source": [
    "L = Lagrangian(N, pa1)\n",
    "q = Matrix([x1])\n",
    "LM = LagrangesMethod(L, q, forcelist=fl, frame=N)\n",
    "eq = LM.form_lagranges_equations()\n",
    "As, Bs, u = LM.linearize(q_ind=q, qd_ind=q.diff(t), A_and_B=True)#,simplify=True)\n",
    "eq"
   ]
  },
  {
   "cell_type": "markdown",
   "metadata": {},
   "source": [
    "実際の値を代入する。"
   ]
  },
  {
   "cell_type": "code",
   "execution_count": 7,
   "metadata": {},
   "outputs": [],
   "source": [
    "m1n = 1. #kg\n",
    "c1n = 0.00005 #\n",
    "gn = 9.8\n",
    "l1n = 0.25\n",
    "w1n = (gn/l1n)**(1/2)\n",
    "k1n = w1n**2*m1n\n",
    "\n",
    "As_func = lambdify((m1, c1, k1), As, modules=\"numpy\")\n",
    "Bs_func = lambdify((m1, k1), Bs, modules=\"numpy\")\n",
    "\n",
    "A0 = As_func(m1n, c1n, k1n)\n",
    "B0 = Bs_func(m1n, k1n)"
   ]
  },
  {
   "cell_type": "markdown",
   "metadata": {},
   "source": [
    "状態方程式から伝達関数を求める。そのために、出力項を定義する。\n",
    "\n",
    "状態変数すべてをとりだしたいので、Cは単位行列にする。\n",
    "入力は出力に取り出さないのでDはゼロ。"
   ]
  },
  {
   "cell_type": "code",
   "execution_count": 8,
   "metadata": {},
   "outputs": [],
   "source": [
    "C = np.eye(2)\n",
    "D = np.zeros((2,2))"
   ]
  },
  {
   "cell_type": "markdown",
   "metadata": {},
   "source": [
    "Python のControlパッケージをつかって、ABCD行列から求める。"
   ]
  },
  {
   "cell_type": "code",
   "execution_count": 9,
   "metadata": {},
   "outputs": [
    {
     "data": {
      "image/png": "[encoded data removed]",
      "text/plain": [
       "<Figure size 360x360 with 2 Axes>"
      ]
     },
     "metadata": {
      "needs_background": "light"
     },
     "output_type": "display_data"
    }
   ],
   "source": [
    "import matplotlib.pyplot as plt\n",
    "sys = control.ss(A0,B0,C,D)\n",
    "mag,phase,omega = sys.freqresp(np.logspace(-1,4,300))\n",
    "\n",
    "_in,_out = 0,0 \n",
    "\n",
    "fig, ax = plt.subplots(2,1,figsize=(5,5))\n",
    "mag = 20*np.log10(mag[_out][_in])\n",
    "phase = phase[_out][_in]\n",
    "freq = omega/(2.0*np.pi)\n",
    "ax[0].semilogx(freq,mag)\n",
    "ax[0].set_ylim(-80,40)\n",
    "ax[1].semilogx(freq, np.rad2deg(phase))  \n",
    "ax[1].set_ylim(-180,180)\n",
    "plt.show()"
   ]
  },
  {
   "cell_type": "markdown",
   "metadata": {},
   "source": [
    "OK。"
   ]
  },
  {
   "cell_type": "code",
   "execution_count": null,
   "metadata": {},
   "outputs": [],
   "source": []
  },
  {
   "cell_type": "markdown",
   "metadata": {},
   "source": [
    "# 2段振り子"
   ]
  },
  {
   "attachments": {
    "f9ac6107-1b33-4c7b-9cb7-307c5bf04b8f.png": {
     "image/png": "[encoded data removed]"
    }
   },
   "cell_type": "markdown",
   "metadata": {},
   "source": [
    "新井さん[修論](https://granite.phys.s.u-tokyo.ac.jp/theses/arai_m.pdf)を参考にして、二段振り子の伝達関数を求める。\n",
    "\n",
    "## ダンピングなし\n",
    "まず、以下のようなダンピングなしのモデルを考える。簡単のために、上段と下段の振り子は同じ質量で同じ長さの振り子とした。\n",
    "\n",
    "![Screenshot from 2020-12-22 07-26-16.png](attachment:f9ac6107-1b33-4c7b-9cb7-307c5bf04b8f.png)\n",
    "図１：ダンピングなしの二段振り子の力学モデル。新井さんの修論の図4.1を転載。"
   ]
  },
  {
   "cell_type": "code",
   "execution_count": null,
   "metadata": {},
   "outputs": [],
   "source": []
  },
  {
   "cell_type": "markdown",
   "metadata": {},
   "source": [
    "\n"
   ]
  },
  {
   "cell_type": "markdown",
   "metadata": {},
   "source": [
    "マス１の上にマス2を置く。（iを2、fを1として読み替える。）"
   ]
  },
  {
   "cell_type": "code",
   "execution_count": 10,
   "metadata": {},
   "outputs": [],
   "source": [
    "# Define the valiables\n",
    "x2, f2 = dynamicsymbols(\"x2 f2\")\n",
    "m2, c2, k2 = symbols(\"m2 c2 k2\")\n",
    "l2, g = symbols(\"l2 g\")\n",
    "w2 = symbols(\"w2\")\n",
    "# Define the point mass\n",
    "p2 = Point(\"p2\") \n",
    "v2 = x2.diff(t)\n",
    "p2.set_vel(N, v2*N.x)\n",
    "pa2 = Particle(\"pa2\", p2, m2)\n",
    "#"
   ]
  },
  {
   "cell_type": "markdown",
   "metadata": {},
   "source": [
    "ポテンシャルエネルギーを再定義する。"
   ]
  },
  {
   "cell_type": "code",
   "execution_count": 11,
   "metadata": {},
   "outputs": [],
   "source": [
    "pa2.potential_energy = k2*(x2-X)**2/2 + k1*(x1-x2)**2/2\n",
    "pa1.potential_energy = k1*(x2-x1)**2/2"
   ]
  },
  {
   "cell_type": "markdown",
   "metadata": {},
   "source": [
    "外力も再定義する。"
   ]
  },
  {
   "cell_type": "code",
   "execution_count": 12,
   "metadata": {},
   "outputs": [],
   "source": [
    "F = c1*(v1)**2/2 + c2*(v2)**2/2 \n",
    "fc1 = -F.diff(v1)\n",
    "fc2 = -F.diff(v2)\n",
    "fl = [(p1, (f1 + fc1)*N.x), (p2, (f2 + fc2)*N.x)] # with damping"
   ]
  },
  {
   "cell_type": "markdown",
   "metadata": {},
   "source": [
    "運動方程式を再び求める。"
   ]
  },
  {
   "cell_type": "code",
   "execution_count": 13,
   "metadata": {},
   "outputs": [
    {
     "data": {
      "text/latex": [
       "$\\displaystyle \\left[\\begin{matrix}c_{1} \\dot{x}_{1} + k_{1} \\left(2 x_{1} - 2 x_{2}\\right) + m_{1} \\ddot{x}_{1} - f_{1}\\\\c_{2} \\dot{x}_{2} + k_{1} \\left(- 2 x_{1} + 2 x_{2}\\right) + \\frac{k_{2} \\left(- 2 X + 2 x_{2}\\right)}{2} + m_{2} \\ddot{x}_{2} - f_{2}\\end{matrix}\\right]$"
      ],
      "text/plain": [
       "⎡          c₁⋅x₁̇ + k₁⋅(2⋅x₁ - 2⋅x₂) + m₁⋅x₁̈ - f₁          ⎤\n",
       "⎢                                                         ⎥\n",
       "⎢                            k₂⋅(-2⋅X + 2⋅x₂)             ⎥\n",
       "⎢c₂⋅x₂̇ + k₁⋅(-2⋅x₁ + 2⋅x₂) + ──────────────── + m₂⋅x₂̈ - f₂⎥\n",
       "⎣                                   2                     ⎦"
      ]
     },
     "execution_count": 13,
     "metadata": {},
     "output_type": "execute_result"
    }
   ],
   "source": [
    "L = Lagrangian(N, pa1, pa2)\n",
    "q = Matrix([x1,x2])\n",
    "LM = LagrangesMethod(L, q, forcelist=fl, frame=N)\n",
    "eq = LM.form_lagranges_equations()\n",
    "As, Bs, u = LM.linearize(q_ind=q, qd_ind=q.diff(t), A_and_B=True)#,simplify=True)\n",
    "eq"
   ]
  },
  {
   "cell_type": "markdown",
   "metadata": {},
   "source": [
    "実際の値を代入し、ABCD行列を用意する。"
   ]
  },
  {
   "cell_type": "code",
   "execution_count": 14,
   "metadata": {},
   "outputs": [],
   "source": [
    "m1n = 1. #kg\n",
    "m2n = 1. #kg\n",
    "c1n = 0.0 #\n",
    "c2n = 0.0 #\n",
    "l1n = 0.25\n",
    "l2n = 0.5 - l1n\n",
    "w1n = (gn/l1n)**(1/2)\n",
    "w2n = (gn/l2n)**(1/2)\n",
    "k1n = w1n**2*m1n\n",
    "k2n = w2n**2*m2n\n",
    "\n",
    "As_func = lambdify((m1, c1, k1, m2, c2, k2), As, modules=\"numpy\")\n",
    "Bs_func = lambdify((m1, k1, m2, k2), Bs, modules=\"numpy\")\n",
    "\n",
    "A0 = As_func(m1n, c1n, k1n, m2n, c2n, k2n)\n",
    "B0 = Bs_func(m1n, k1n, m2n, k2n)"
   ]
  },
  {
   "cell_type": "code",
   "execution_count": 15,
   "metadata": {},
   "outputs": [],
   "source": [
    "C = np.eye(4)\n",
    "D = np.zeros((4,3))"
   ]
  },
  {
   "cell_type": "markdown",
   "metadata": {},
   "source": [
    "Python のControlパッケージをつかって、ABCD行列から求める。"
   ]
  },
  {
   "cell_type": "code",
   "execution_count": 16,
   "metadata": {},
   "outputs": [
    {
     "data": {
      "image/png": "[encoded data removed]",
      "text/plain": [
       "<Figure size 360x360 with 2 Axes>"
      ]
     },
     "metadata": {
      "needs_background": "light"
     },
     "output_type": "display_data"
    }
   ],
   "source": [
    "import matplotlib.pyplot as plt\n",
    "sys = control.ss(A0,B0,C,D)\n",
    "mag,phase,omega = sys.freqresp(np.logspace(-1,4,300))\n",
    "\n",
    "_in,_out = 0,0 \n",
    "\n",
    "fig, ax = plt.subplots(2,1,figsize=(5,5))\n",
    "mag = 20*np.log10(mag[_out][_in])\n",
    "phase = phase[_out][_in]\n",
    "freq = omega/(2.0*np.pi)\n",
    "ax[0].semilogx(freq,mag)\n",
    "ax[0].set_ylim(-80,20)\n",
    "ax[1].semilogx(freq, np.rad2deg(phase))  \n",
    "ax[1].set_ylim(-180,180)\n",
    "plt.show()"
   ]
  },
  {
   "cell_type": "markdown",
   "metadata": {},
   "source": [
    "OK。"
   ]
  },
  {
   "cell_type": "code",
   "execution_count": null,
   "metadata": {},
   "outputs": [],
   "source": []
  },
  {
   "cell_type": "code",
   "execution_count": null,
   "metadata": {},
   "outputs": [],
   "source": []
  },
  {
   "cell_type": "code",
   "execution_count": null,
   "metadata": {},
   "outputs": [],
   "source": []
  },
  {
   "cell_type": "code",
   "execution_count": null,
   "metadata": {},
   "outputs": [],
   "source": []
  },
  {
   "cell_type": "markdown",
   "metadata": {},
   "source": [
    "## フレキシブルダンピングあり"
   ]
  },
  {
   "attachments": {
    "1c75ef04-521e-4901-beb9-70a991c4fb5a.png": {
     "image/png": "[encoded data removed]"
    }
   },
   "cell_type": "markdown",
   "metadata": {},
   "source": [
    "![Screenshot from 2020-12-22 08-29-42.png](attachment:1c75ef04-521e-4901-beb9-70a991c4fb5a.png)"
   ]
  },
  {
   "cell_type": "markdown",
   "metadata": {},
   "source": [
    "mは50に読み替える。ガンマはd0に読み替える。"
   ]
  },
  {
   "cell_type": "code",
   "execution_count": 17,
   "metadata": {},
   "outputs": [],
   "source": [
    "# Define the valiables\n",
    "x50, f50 = dynamicsymbols(\"x50 f50\")\n",
    "m50, c50, d0, k50 = symbols(\"m50 c50 d0 k50\")\n",
    "l50, g = symbols(\"l50 g\")\n",
    "w50 = symbols(\"w50\")\n",
    "# Define the point mass\n",
    "p50 = Point(\"p50\") \n",
    "v50 = x50.diff(t)\n",
    "p50.set_vel(N, v50*N.x)\n",
    "pa50 = Particle(\"pa50\", p50, m50)\n",
    "#"
   ]
  },
  {
   "cell_type": "code",
   "execution_count": null,
   "metadata": {},
   "outputs": [],
   "source": []
  },
  {
   "cell_type": "code",
   "execution_count": 18,
   "metadata": {},
   "outputs": [],
   "source": [
    "pa50.potential_energy = k50*(x50-X)**2/2\n",
    "pa2.potential_energy = k2*(x2-X)**2/2 + k1*(x1-x2)**2/2\n",
    "pa1.potential_energy = k1*(x2-x1)**2/2"
   ]
  },
  {
   "cell_type": "code",
   "execution_count": null,
   "metadata": {},
   "outputs": [],
   "source": []
  },
  {
   "cell_type": "code",
   "execution_count": 19,
   "metadata": {},
   "outputs": [],
   "source": [
    "F = c1*(v1)**2/2 + c2*(v2)**2/2 + c50*(v50)**2/2 + d0*(v2-v50)**2/2\n",
    "fc1 = -F.diff(v1)\n",
    "fc2 = -F.diff(v2)\n",
    "fc50 = -F.diff(v50)\n",
    "fl = [(p1, (f1 + fc1)*N.x), (p2, (f2 + fc2)*N.x), (p50, (f50 + fc50)*N.x)]"
   ]
  },
  {
   "cell_type": "code",
   "execution_count": null,
   "metadata": {},
   "outputs": [],
   "source": []
  },
  {
   "cell_type": "code",
   "execution_count": 20,
   "metadata": {},
   "outputs": [
    {
     "data": {
      "text/latex": [
       "$\\displaystyle \\left[\\begin{matrix}c_{1} \\dot{x}_{1} + k_{1} \\left(2 x_{1} - 2 x_{2}\\right) + m_{1} \\ddot{x}_{1} - f_{1}\\\\c_{2} \\dot{x}_{2} + \\frac{d_{0} \\left(2 \\dot{x}_{2} - 2 \\dot{x}_{50}\\right)}{2} + k_{1} \\left(- 2 x_{1} + 2 x_{2}\\right) + \\frac{k_{2} \\left(- 2 X + 2 x_{2}\\right)}{2} + m_{2} \\ddot{x}_{2} - f_{2}\\\\c_{50} \\dot{x}_{50} + \\frac{d_{0} \\left(- 2 \\dot{x}_{2} + 2 \\dot{x}_{50}\\right)}{2} + \\frac{k_{50} \\left(- 2 X + 2 x_{50}\\right)}{2} + m_{50} \\ddot{x}_{50} - f_{50}\\end{matrix}\\right]$"
      ],
      "text/plain": [
       "⎡                    c₁⋅x₁̇ + k₁⋅(2⋅x₁ - 2⋅x₂) + m₁⋅x₁̈ - f₁                  \n",
       "⎢                                                                             \n",
       "⎢        d₀⋅(2⋅x₂̇ - 2⋅x₅̇₀)                       k₂⋅(-2⋅X + 2⋅x₂)           \n",
       "⎢c₂⋅x₂̇ + ───────────────── + k₁⋅(-2⋅x₁ + 2⋅x₂) + ──────────────── + m₂⋅x₂̈ - \n",
       "⎢                2                                      2                     \n",
       "⎢                                                                             \n",
       "⎢                d₀⋅(-2⋅x₂̇ + 2⋅x₅̇₀)   k₅₀⋅(-2⋅X + 2⋅x₅₀)                    \n",
       "⎢      c₅₀⋅x₅̇₀ + ────────────────── + ────────────────── + m₅₀⋅x₅̈₀ - f₅₀    \n",
       "⎣                        2                    2                               \n",
       "\n",
       "  ⎤\n",
       "⎥\n",
       "  ⎥\n",
       "f₂⎥\n",
       "⎥\n",
       "⎥\n",
       "  ⎥\n",
       "  ⎥\n",
       "⎦"
      ]
     },
     "execution_count": 20,
     "metadata": {},
     "output_type": "execute_result"
    }
   ],
   "source": [
    "L = Lagrangian(N, pa1, pa2, pa50)\n",
    "q = Matrix([x1,x2,x50])\n",
    "LM = LagrangesMethod(L, q, forcelist=fl, frame=N)\n",
    "eq = LM.form_lagranges_equations()\n",
    "As, Bs, u = LM.linearize(q_ind=q, qd_ind=q.diff(t), A_and_B=True)#,simplify=True)\n",
    "eq"
   ]
  },
  {
   "cell_type": "code",
   "execution_count": null,
   "metadata": {},
   "outputs": [],
   "source": []
  },
  {
   "cell_type": "code",
   "execution_count": 21,
   "metadata": {},
   "outputs": [],
   "source": [
    "m1n = 1. #kg\n",
    "m2n = 1. #kg\n",
    "m50n = 0.5 #kg\n",
    "c1n = 0.0 #\n",
    "c2n = 0.0 #\n",
    "c50n = 0.0 #\n",
    "d0n = 20 #\n",
    "l1n = 0.25\n",
    "l2n = 0.5 - l1n\n",
    "w1n = (gn/l1n)**(1/2)\n",
    "w2n = (gn/l2n)**(1/2)\n",
    "w50n = 6*(2.0*np.pi)\n",
    "k1n = w1n**2*m1n\n",
    "k2n = w2n**2*m2n\n",
    "k50n = w50n**2*m50n\n",
    "\n",
    "As_func = lambdify((m1, c1, k1, m2, c2, k2, m50, k50, c50, d0), As, modules=\"numpy\")\n",
    "Bs_func = lambdify((m1, k1, m2, k2, m50, k50, c50), Bs, modules=\"numpy\")\n",
    "\n",
    "A0 = As_func(m1n, c1n, k1n, m2n, c2n, k2n, m50n, k50n, c50n, d0n)\n",
    "B0 = Bs_func(m1n, k1n, m2n, k2n, m50n, k50n, d0n)\n",
    "\n",
    "C = np.eye(6)\n",
    "D = np.zeros((6,4))"
   ]
  },
  {
   "cell_type": "code",
   "execution_count": null,
   "metadata": {},
   "outputs": [],
   "source": []
  },
  {
   "cell_type": "code",
   "execution_count": 23,
   "metadata": {},
   "outputs": [
    {
     "data": {
      "image/png": "[encoded data removed]",
      "text/plain": [
       "<Figure size 360x360 with 2 Axes>"
      ]
     },
     "metadata": {
      "needs_background": "light"
     },
     "output_type": "display_data"
    }
   ],
   "source": [
    "import matplotlib.pyplot as plt\n",
    "sys_damp = control.ss(A0,B0,C,D)\n",
    "mag_d,phase_d,omega_d = sys_damp.freqresp(np.logspace(-1,4,300))\n",
    "\n",
    "_in,_out = 0,0 \n",
    "\n",
    "fig, ax = plt.subplots(2,1,figsize=(5,5))\n",
    "mag_d = 20*np.log10(mag_d[_out][_in])\n",
    "phase_d = phase_d[_out][_in]\n",
    "freq_d = omega_d/(2.0*np.pi)\n",
    "ax[0].semilogx(freq_d,mag_d,label='flexible damp')\n",
    "ax[0].semilogx(freq,mag,label='no damp')\n",
    "ax[0].legend()\n",
    "ax[0].set_ylim(-250,20)\n",
    "ax[1].semilogx(freq_d, np.rad2deg(phase_d))  \n",
    "ax[1].semilogx(freq, np.rad2deg(phase))  \n",
    "ax[1].set_ylim(-180,180)\n",
    "\n",
    "plt.show()"
   ]
  },
  {
   "cell_type": "code",
   "execution_count": null,
   "metadata": {},
   "outputs": [],
   "source": []
  },
  {
   "cell_type": "code",
   "execution_count": null,
   "metadata": {},
   "outputs": [],
   "source": []
  },
  {
   "cell_type": "code",
   "execution_count": null,
   "metadata": {},
   "outputs": [],
   "source": []
  },
  {
   "cell_type": "code",
   "execution_count": null,
   "metadata": {},
   "outputs": [],
   "source": []
  },
  {
   "cell_type": "code",
   "execution_count": null,
   "metadata": {},
   "outputs": [],
   "source": []
  },
  {
   "cell_type": "code",
   "execution_count": null,
   "metadata": {},
   "outputs": [],
   "source": []
  },
  {
   "cell_type": "markdown",
   "metadata": {},
   "source": [
    "# 参考文献\n",
    "[1] 新井修論"
   ]
  },
  {
   "cell_type": "code",
   "execution_count": null,
   "metadata": {},
   "outputs": [],
   "source": []
  }
 ],
 "metadata": {
  "kernelspec": {
   "display_name": "Python 3",
   "language": "python",
   "name": "python3"
  },
  "language_info": {
   "codemirror_mode": {
    "name": "ipython",
    "version": 3
   },
   "file_extension": ".py",
   "mimetype": "text/x-python",
   "name": "python",
   "nbconvert_exporter": "python",
   "pygments_lexer": "ipython3",
   "version": "3.7.9"
  }
 },
 "nbformat": 4,
 "nbformat_minor": 4
}
