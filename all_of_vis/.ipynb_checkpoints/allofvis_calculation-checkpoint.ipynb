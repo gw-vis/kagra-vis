{
 "cells": [
  {
   "cell_type": "code",
   "execution_count": null,
   "metadata": {},
   "outputs": [],
   "source": []
  },
  {
   "cell_type": "code",
   "execution_count": 1,
   "metadata": {},
   "outputs": [],
   "source": [
    "import numpy as np "
   ]
  },
  {
   "cell_type": "markdown",
   "metadata": {},
   "source": [
    "# About this document\n",
    "\n",
    "This document describe the transformation matrices used in Real Time Model as **LVDT2EUL** and **EUL2COIL**. Other transformation matrices such as OSEM2EUL or PS2EUL are not described in this document."
   ]
  },
  {
   "cell_type": "markdown",
   "metadata": {},
   "source": [
    "## Definition\n",
    "\n",
    "LVDT units which labeled as H1, H2, and H3 are installed point-symmetrically in L-T plane. Angle of the each units is started from the -T axis not to confuse the previous definition[1].\n",
    "\n",
    "![definition](definition.png)\n",
    "\n",
    "[1] http://klog.icrr.u-tokyo.ac.jp/osl/index.php?r=7468"
   ]
  },
  {
   "cell_type": "markdown",
   "metadata": {},
   "source": [
    "## Transformation Matrix\n",
    "According to JGW-E2012144-v6, the transformation matrix from LVDT units to local cordinate, which is named as **EUL2LVDT**,is given by following equation;\n",
    "\n",
    "![sensmat](sensmat.png)\n",
    "\n",
    "On the other hand, the transformatiton matrix from local coordinate to the LVDT units, which is named as **LVDT2EUL**, is given by the inverse matrix of the EUL2LVDT matrix. "
   ]
  },
  {
   "cell_type": "code",
   "execution_count": 7,
   "metadata": {},
   "outputs": [],
   "source": [
    "def eul2lvdt(a1,a2,a3,R):\n",
    "    a1 = np.deg2rad(a1)\n",
    "    a2 = np.deg2rad(a2)\n",
    "    a3 = np.deg2rad(a3)\n",
    "    mat = np.array([[np.cos(a1), np.sin(a1), R],\n",
    "                    [np.cos(a2), np.sin(a2), R],\n",
    "                    [np.cos(a3), np.sin(a3), R]])\n",
    "    return mat\n",
    "\n",
    "def lvdt2eul(a1,a2,a3,R):\n",
    "    _mat = eul2lvdt(a1,a2,a3,R)\n",
    "    mat = np.linalg.inv(_mat)\n",
    "    return mat"
   ]
  },
  {
   "cell_type": "markdown",
   "metadata": {},
   "source": [
    "## Actual matrices\n",
    "we refer the location variables ($\\alpha_1, \\alpha_2, \\alpha_3, \\mathrm{R}$) from JGW-E2012144-v7."
   ]
  },
  {
   "cell_type": "markdown",
   "metadata": {},
   "source": [
    "### BS"
   ]
  },
  {
   "cell_type": "code",
   "execution_count": 3,
   "metadata": {},
   "outputs": [
    {
     "name": "stdout",
     "output_type": "stream",
     "text": [
      "K1:VIS-BS_IP_LVDT2EUL_ is \n",
      " [[ 0.62217822 -0.51846323 -0.10371499]\n",
      " [ 0.23945501  0.41909464 -0.65854965]\n",
      " [ 0.55463117  0.55463117  0.55463117]]\n",
      "K1:VIS-BS_IP_EUL2COIL_ is \n",
      " [[ 0.85181837  0.52383724  0.59423   ]\n",
      " [-0.88773505  0.46035473  0.59423   ]\n",
      " [ 0.04518863 -0.99897847  0.59423   ]]\n"
     ]
    }
   ],
   "source": [
    "optic = 'BS'\n",
    "# for LVDT emitter coils\n",
    "a1, a2, a3, R = 21.05, 141.05, 261.05, 0.601 # [deg], [deg], [deg], [m] \n",
    "LVDT2EUL = lvdt2eul(a1,a2,a3,R)\n",
    "print('K1:VIS-{0}_IP_LVDT2EUL_ is \\n'.format(optic),LVDT2EUL)\n",
    "# for LVDT actuator coils\n",
    "a1, a2, a3, R = 31.59, 152.59, 272.59, 0.59423 # [deg], [deg], [deg], [m] \n",
    "EUL2COIL = eul2lvdt(a1,a2,a3,R)\n",
    "print('K1:VIS-{0}_IP_EUL2COIL_ is \\n'.format(optic),EUL2COIL)"
   ]
  },
  {
   "cell_type": "markdown",
   "metadata": {},
   "source": [
    "### SR2"
   ]
  },
  {
   "cell_type": "code",
   "execution_count": 4,
   "metadata": {},
   "outputs": [
    {
     "name": "stdout",
     "output_type": "stream",
     "text": [
      "K1:VIS-SR2_IP_LVDT2EUL_ is \n",
      " [[ 0.61812257 -0.5253405  -0.09278207]\n",
      " [ 0.24973773  0.41044098 -0.66017871]\n",
      " [ 0.57570524  0.57570524  0.57570524]]\n",
      "K1:VIS-SR2_IP_EUL2COIL_ is \n",
      " [[ 0.83867057  0.54463904  0.599     ]\n",
      " [ 0.05233596 -0.99862953  0.599     ]\n",
      " [-0.89100652  0.4539905   0.599     ]]\n"
     ]
    }
   ],
   "source": [
    "optic = 'SR2'\n",
    "# for LVDT emitter coils\n",
    "a1, a2, a3, R = 22, 142, 262, 0.579 # [deg], [deg], [deg], [m] from JGW-E2012144-v6 \n",
    "LVDT2EUL = lvdt2eul(a1,a2,a3,R)\n",
    "print('K1:VIS-{0}_IP_LVDT2EUL_ is \\n'.format(optic),LVDT2EUL)\n",
    "# for LVDT actuator coils\n",
    "a1, a2, a3, R = 33, 273, 153, 0.599 # [deg], [deg], [deg], [m] from JGW-E2012144-v6\n",
    "EUL2COIL = eul2lvdt(a1,a2,a3,R)\n",
    "print('K1:VIS-{0}_IP_EUL2COIL_ is \\n'.format(optic),EUL2COIL)"
   ]
  },
  {
   "cell_type": "markdown",
   "metadata": {},
   "source": [
    "### SR3"
   ]
  },
  {
   "cell_type": "code",
   "execution_count": 5,
   "metadata": {},
   "outputs": [
    {
     "name": "stdout",
     "output_type": "stream",
     "text": [
      "K1:VIS-SR3_IP_LVDT2EUL_ is \n",
      " [[ 0.61812257 -0.5253405  -0.09278207]\n",
      " [ 0.24973773  0.41044098 -0.66017871]\n",
      " [ 0.57570524  0.57570524  0.57570524]]\n",
      "K1:VIS-SR3_IP_EUL2COIL_ is \n",
      " [[ 0.83867057  0.54463904  0.599     ]\n",
      " [ 0.05233596 -0.99862953  0.599     ]\n",
      " [-0.89100652  0.4539905   0.599     ]]\n"
     ]
    }
   ],
   "source": [
    "optic = 'SR3'\n",
    "# for LVDT emitter coils\n",
    "a1, a2, a3, R = 22, 142, 262, 0.579 # [deg], [deg], [deg], [m] from JGW-E2012144-v6 \n",
    "LVDT2EUL = lvdt2eul(a1,a2,a3,R)\n",
    "print('K1:VIS-{0}_IP_LVDT2EUL_ is \\n'.format(optic),LVDT2EUL)\n",
    "# for LVDT actuator coils\n",
    "a1, a2, a3, R = 33, 273, 153, 0.599 # [deg], [deg], [deg], [m] from JGW-E2012144-v6\n",
    "EUL2COIL = eul2lvdt(a1,a2,a3,R)\n",
    "print('K1:VIS-{0}_IP_EUL2COIL_ is \\n'.format(optic),EUL2COIL)"
   ]
  },
  {
   "cell_type": "markdown",
   "metadata": {},
   "source": [
    "### SRM"
   ]
  },
  {
   "cell_type": "code",
   "execution_count": 6,
   "metadata": {},
   "outputs": [
    {
     "name": "stdout",
     "output_type": "stream",
     "text": [
      "K1:VIS-SRM_IP_LVDT2EUL_ is \n",
      " [[ 0.61812257 -0.5253405  -0.09278207]\n",
      " [ 0.24973773  0.41044098 -0.66017871]\n",
      " [ 0.57570524  0.57570524  0.57570524]]\n",
      "K1:VIS-SRM_IP_EUL2COIL_ is \n",
      " [[ 0.83867057  0.54463904  0.599     ]\n",
      " [ 0.05233596 -0.99862953  0.599     ]\n",
      " [-0.89100652  0.4539905   0.599     ]]\n"
     ]
    }
   ],
   "source": [
    "optic = 'SRM'\n",
    "# for LVDT emitter coils\n",
    "a1, a2, a3, R = 22, 142, 262, 0.579 # [deg], [deg], [deg], [m] from JGW-E2012144-v6 \n",
    "LVDT2EUL = lvdt2eul(a1,a2,a3,R)\n",
    "print('K1:VIS-{0}_IP_LVDT2EUL_ is \\n'.format(optic),LVDT2EUL)\n",
    "# for LVDT actuator coils\n",
    "a1, a2, a3, R = 33, 273, 153, 0.599 # [deg], [deg], [deg], [m] from JGW-E2012144-v6\n",
    "EUL2COIL = eul2lvdt(a1,a2,a3,R)\n",
    "print('K1:VIS-{0}_IP_EUL2COIL_ is \\n'.format(optic),EUL2COIL)"
   ]
  },
  {
   "cell_type": "code",
   "execution_count": null,
   "metadata": {},
   "outputs": [],
   "source": []
  },
  {
   "cell_type": "code",
   "execution_count": null,
   "metadata": {},
   "outputs": [],
   "source": []
  },
  {
   "cell_type": "code",
   "execution_count": null,
   "metadata": {},
   "outputs": [],
   "source": []
  }
 ],
 "metadata": {
  "kernelspec": {
   "display_name": "Python 3",
   "language": "python",
   "name": "python3"
  },
  "language_info": {
   "codemirror_mode": {
    "name": "ipython",
    "version": 3
   },
   "file_extension": ".py",
   "mimetype": "text/x-python",
   "name": "python",
   "nbconvert_exporter": "python",
   "pygments_lexer": "ipython3",
   "version": "3.7.7"
  }
 },
 "nbformat": 4,
 "nbformat_minor": 4
}
